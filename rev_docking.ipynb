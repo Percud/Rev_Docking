{
 "cells": [
  {
   "cell_type": "code",
   "execution_count": 1,
   "metadata": {
    "scrolled": true
   },
   "outputs": [],
   "source": [
    "import re, sys, os, subprocess\n",
    "import configparser\n",
    "import glob\n",
    "from Bio.PDB import PDBParser, PDBIO, Select\n",
    "cwd = os.getcwd()\n"
   ]
  },
  {
   "cell_type": "code",
   "execution_count": 2,
   "metadata": {},
   "outputs": [],
   "source": [
    "#####    config parser    ####\n",
    "config = configparser.ConfigParser(inline_comment_prefixes=\"#\")\n",
    "config.optionxform = str\n",
    "config.read('rd_conf.txt')#sys.argv[1]\n",
    "locals().update(dict(config.items('DOCKING')))\n"
   ]
  },
  {
   "cell_type": "code",
   "execution_count": 3,
   "metadata": {},
   "outputs": [],
   "source": [
    "####    call to scripts    ####\n",
    "\n",
    "pythonsh = MGL_ROOT+'/bin/pythonsh'\n",
    "u24 = MGL_ROOT+'/MGLToolsPckgs/AutoDockTools/Utilities24/'\n",
    "def prepare_receptor(inf,outf):\n",
    "    subprocess.run([pythonsh,u24+'prepare_receptor4.py',\n",
    "                    '-A \"checkhydrogens\" -e',\n",
    "                    '-r',inf,\n",
    "                    '-o',outf])\n",
    "def prepare_gpf(receptor, ligand, coord, output):\n",
    "    os.chdir(out_dir)\n",
    "    subprocess.run([pythonsh,u24+'prepare_gpf4.py', \n",
    "                   '-l',ligand,\n",
    "                   ' '.join(['-p '+'='.join(i) for i in config.items('GPF')]),\n",
    "                   '-p gridcenter='+coord,\n",
    "                   '-r',receptor,\n",
    "                   '-o',output])\n",
    "    os.chdir(cwd)\n",
    "def prepare_dpf(receptor, ligand, output):\n",
    "    os.chdir(out_dir)\n",
    "    subprocess.run([pythonsh,u24+'prepare_dpf4.py', \n",
    "                   '-l',ligand,\n",
    "                   ' '.join(['-p '+'='.join(i) for i in config.items('DPF')]),\n",
    "                   '-r',receptor,\n",
    "                   '-o',output])\n",
    "    os.chdir(cwd)\n",
    "def autogrid(gpf, glg):\n",
    "    os.chdir(out_dir)\n",
    "    subprocess.run(['autogrid4',\n",
    "                    '-p',gpf,\n",
    "                    '-l',glg])\n",
    "    os.chdir(cwd)\n",
    "def autodock(dpf, dlg):\n",
    "    os.chdir(out_dir)\n",
    "    subprocess.run(['autodock4',\n",
    "                    '-p',dpf,\n",
    "                    '-l',dlg])\n",
    "    os.chdir(cwd)"
   ]
  },
  {
   "cell_type": "code",
   "execution_count": 4,
   "metadata": {
    "scrolled": true
   },
   "outputs": [
    {
     "name": "stdout",
     "output_type": "stream",
     "text": [
      "writing output in ./Mouse/outdir_HTML_PLP_1/\n"
     ]
    }
   ],
   "source": [
    "####   make outdir   ####\n",
    "i = 1\n",
    "while os.path.exists(outdir+'_%s' % i):\n",
    "    i += 1\n",
    "out_dir = outdir+'_%s' % i+'/'\n",
    "os.makedirs(out_dir)\n",
    "if os.path.exists(outdir+'_%s' % i):\n",
    "    print('writing output in '+out_dir)"
   ]
  },
  {
   "cell_type": "code",
   "execution_count": 5,
   "metadata": {},
   "outputs": [],
   "source": [
    "out_log = open(out_dir+'out_log.txt', 'w')\n"
   ]
  },
  {
   "cell_type": "code",
   "execution_count": 6,
   "metadata": {},
   "outputs": [
    {
     "name": "stdout",
     "output_type": "stream",
     "text": [
      "Reading ./Mouse/Mouse_Orf_pred_mini.coord ...\n"
     ]
    }
   ],
   "source": [
    "####    read coordinates    ####\n",
    "coordinates = {}\n",
    "try:\n",
    "    for line in open(coord_file):\n",
    "        if '#' in line: #skip comments\n",
    "            next\n",
    "        else:\n",
    "            name, x, y, z = line.split()\n",
    "            coordinates.setdefault(name, []).append([x,y,z])\n",
    "    print('Reading '+coord_file+' ...')\n",
    "except:\n",
    "    print(coord_file+\" doesn't exist\")\n"
   ]
  },
  {
   "cell_type": "code",
   "execution_count": 7,
   "metadata": {},
   "outputs": [
    {
     "ename": "KeyboardInterrupt",
     "evalue": "",
     "output_type": "error",
     "traceback": [
      "\u001b[0;31m---------------------------------------------------------------------------\u001b[0m",
      "\u001b[0;31mKeyboardInterrupt\u001b[0m                         Traceback (most recent call last)",
      "\u001b[0;32m<ipython-input-7-d8fac4f8724f>\u001b[0m in \u001b[0;36m<module>\u001b[0;34m\u001b[0m\n\u001b[1;32m     16\u001b[0m \u001b[0;34m\u001b[0m\u001b[0m\n\u001b[1;32m     17\u001b[0m         \u001b[0mprint\u001b[0m\u001b[0;34m(\u001b[0m\u001b[0mopen\u001b[0m\u001b[0;34m(\u001b[0m\u001b[0mreceptor_dir\u001b[0m\u001b[0;34m+\u001b[0m\u001b[0;34m'/'\u001b[0m\u001b[0;34m+\u001b[0m\u001b[0mpdb\u001b[0m\u001b[0;34m,\u001b[0m \u001b[0;34m'r'\u001b[0m\u001b[0;34m)\u001b[0m\u001b[0;34m.\u001b[0m\u001b[0mread\u001b[0m\u001b[0;34m(\u001b[0m\u001b[0;34m)\u001b[0m\u001b[0;34m.\u001b[0m\u001b[0mreplace\u001b[0m\u001b[0;34m(\u001b[0m\u001b[0;34m'HETATM'\u001b[0m\u001b[0;34m,\u001b[0m \u001b[0;34m'#HETATM'\u001b[0m\u001b[0;34m)\u001b[0m\u001b[0;34m,\u001b[0m \u001b[0mfile\u001b[0m\u001b[0;34m=\u001b[0m\u001b[0mopen\u001b[0m\u001b[0;34m(\u001b[0m\u001b[0mout_dir\u001b[0m\u001b[0;34m+\u001b[0m\u001b[0mpdb\u001b[0m\u001b[0;34m,\u001b[0m \u001b[0;34m'w'\u001b[0m\u001b[0;34m)\u001b[0m\u001b[0;34m)\u001b[0m \u001b[0;31m# comment HETATM\u001b[0m\u001b[0;34m\u001b[0m\u001b[0;34m\u001b[0m\u001b[0m\n\u001b[0;32m---> 18\u001b[0;31m         \u001b[0mprepare_receptor\u001b[0m\u001b[0;34m(\u001b[0m\u001b[0mout_dir\u001b[0m\u001b[0;34m+\u001b[0m\u001b[0mpdb\u001b[0m\u001b[0;34m,\u001b[0m \u001b[0mout_dir\u001b[0m\u001b[0;34m+\u001b[0m\u001b[0mpdb_name\u001b[0m\u001b[0;34m+\u001b[0m\u001b[0;34m'_%s.pdbqt'\u001b[0m \u001b[0;34m%\u001b[0m\u001b[0mi\u001b[0m\u001b[0;34m)\u001b[0m\u001b[0;34m\u001b[0m\u001b[0;34m\u001b[0m\u001b[0m\n\u001b[0m\u001b[1;32m     19\u001b[0m         prepare_gpf(pdb_name+'_%s.pdbqt' %i, \n\u001b[1;32m     20\u001b[0m                     \u001b[0mos\u001b[0m\u001b[0;34m.\u001b[0m\u001b[0mpath\u001b[0m\u001b[0;34m.\u001b[0m\u001b[0mbasename\u001b[0m\u001b[0;34m(\u001b[0m\u001b[0mligand\u001b[0m\u001b[0;34m)\u001b[0m\u001b[0;34m,\u001b[0m\u001b[0;34m\u001b[0m\u001b[0;34m\u001b[0m\u001b[0m\n",
      "\u001b[0;32m<ipython-input-3-5efa3396a877>\u001b[0m in \u001b[0;36mprepare_receptor\u001b[0;34m(inf, outf)\u001b[0m\n\u001b[1;32m      4\u001b[0m \u001b[0mu24\u001b[0m \u001b[0;34m=\u001b[0m \u001b[0mMGL_ROOT\u001b[0m\u001b[0;34m+\u001b[0m\u001b[0;34m'/MGLToolsPckgs/AutoDockTools/Utilities24/'\u001b[0m\u001b[0;34m\u001b[0m\u001b[0;34m\u001b[0m\u001b[0m\n\u001b[1;32m      5\u001b[0m \u001b[0;32mdef\u001b[0m \u001b[0mprepare_receptor\u001b[0m\u001b[0;34m(\u001b[0m\u001b[0minf\u001b[0m\u001b[0;34m,\u001b[0m\u001b[0moutf\u001b[0m\u001b[0;34m)\u001b[0m\u001b[0;34m:\u001b[0m\u001b[0;34m\u001b[0m\u001b[0;34m\u001b[0m\u001b[0m\n\u001b[0;32m----> 6\u001b[0;31m     subprocess.run([pythonsh,u24+'prepare_receptor4.py',\n\u001b[0m\u001b[1;32m      7\u001b[0m                     \u001b[0;34m'-A \"checkhydrogens\" -e'\u001b[0m\u001b[0;34m,\u001b[0m\u001b[0;34m\u001b[0m\u001b[0;34m\u001b[0m\u001b[0m\n\u001b[1;32m      8\u001b[0m                     \u001b[0;34m'-r'\u001b[0m\u001b[0;34m,\u001b[0m\u001b[0minf\u001b[0m\u001b[0;34m,\u001b[0m\u001b[0;34m\u001b[0m\u001b[0;34m\u001b[0m\u001b[0m\n",
      "\u001b[0;32m~/anaconda3/lib/python3.8/subprocess.py\u001b[0m in \u001b[0;36mrun\u001b[0;34m(input, capture_output, timeout, check, *popenargs, **kwargs)\u001b[0m\n\u001b[1;32m    489\u001b[0m     \u001b[0;32mwith\u001b[0m \u001b[0mPopen\u001b[0m\u001b[0;34m(\u001b[0m\u001b[0;34m*\u001b[0m\u001b[0mpopenargs\u001b[0m\u001b[0;34m,\u001b[0m \u001b[0;34m**\u001b[0m\u001b[0mkwargs\u001b[0m\u001b[0;34m)\u001b[0m \u001b[0;32mas\u001b[0m \u001b[0mprocess\u001b[0m\u001b[0;34m:\u001b[0m\u001b[0;34m\u001b[0m\u001b[0;34m\u001b[0m\u001b[0m\n\u001b[1;32m    490\u001b[0m         \u001b[0;32mtry\u001b[0m\u001b[0;34m:\u001b[0m\u001b[0;34m\u001b[0m\u001b[0;34m\u001b[0m\u001b[0m\n\u001b[0;32m--> 491\u001b[0;31m             \u001b[0mstdout\u001b[0m\u001b[0;34m,\u001b[0m \u001b[0mstderr\u001b[0m \u001b[0;34m=\u001b[0m \u001b[0mprocess\u001b[0m\u001b[0;34m.\u001b[0m\u001b[0mcommunicate\u001b[0m\u001b[0;34m(\u001b[0m\u001b[0minput\u001b[0m\u001b[0;34m,\u001b[0m \u001b[0mtimeout\u001b[0m\u001b[0;34m=\u001b[0m\u001b[0mtimeout\u001b[0m\u001b[0;34m)\u001b[0m\u001b[0;34m\u001b[0m\u001b[0;34m\u001b[0m\u001b[0m\n\u001b[0m\u001b[1;32m    492\u001b[0m         \u001b[0;32mexcept\u001b[0m \u001b[0mTimeoutExpired\u001b[0m \u001b[0;32mas\u001b[0m \u001b[0mexc\u001b[0m\u001b[0;34m:\u001b[0m\u001b[0;34m\u001b[0m\u001b[0;34m\u001b[0m\u001b[0m\n\u001b[1;32m    493\u001b[0m             \u001b[0mprocess\u001b[0m\u001b[0;34m.\u001b[0m\u001b[0mkill\u001b[0m\u001b[0;34m(\u001b[0m\u001b[0;34m)\u001b[0m\u001b[0;34m\u001b[0m\u001b[0;34m\u001b[0m\u001b[0m\n",
      "\u001b[0;32m~/anaconda3/lib/python3.8/subprocess.py\u001b[0m in \u001b[0;36mcommunicate\u001b[0;34m(self, input, timeout)\u001b[0m\n\u001b[1;32m   1014\u001b[0m                 \u001b[0mstderr\u001b[0m \u001b[0;34m=\u001b[0m \u001b[0mself\u001b[0m\u001b[0;34m.\u001b[0m\u001b[0mstderr\u001b[0m\u001b[0;34m.\u001b[0m\u001b[0mread\u001b[0m\u001b[0;34m(\u001b[0m\u001b[0;34m)\u001b[0m\u001b[0;34m\u001b[0m\u001b[0;34m\u001b[0m\u001b[0m\n\u001b[1;32m   1015\u001b[0m                 \u001b[0mself\u001b[0m\u001b[0;34m.\u001b[0m\u001b[0mstderr\u001b[0m\u001b[0;34m.\u001b[0m\u001b[0mclose\u001b[0m\u001b[0;34m(\u001b[0m\u001b[0;34m)\u001b[0m\u001b[0;34m\u001b[0m\u001b[0;34m\u001b[0m\u001b[0m\n\u001b[0;32m-> 1016\u001b[0;31m             \u001b[0mself\u001b[0m\u001b[0;34m.\u001b[0m\u001b[0mwait\u001b[0m\u001b[0;34m(\u001b[0m\u001b[0;34m)\u001b[0m\u001b[0;34m\u001b[0m\u001b[0;34m\u001b[0m\u001b[0m\n\u001b[0m\u001b[1;32m   1017\u001b[0m         \u001b[0;32melse\u001b[0m\u001b[0;34m:\u001b[0m\u001b[0;34m\u001b[0m\u001b[0;34m\u001b[0m\u001b[0m\n\u001b[1;32m   1018\u001b[0m             \u001b[0;32mif\u001b[0m \u001b[0mtimeout\u001b[0m \u001b[0;32mis\u001b[0m \u001b[0;32mnot\u001b[0m \u001b[0;32mNone\u001b[0m\u001b[0;34m:\u001b[0m\u001b[0;34m\u001b[0m\u001b[0;34m\u001b[0m\u001b[0m\n",
      "\u001b[0;32m~/anaconda3/lib/python3.8/subprocess.py\u001b[0m in \u001b[0;36mwait\u001b[0;34m(self, timeout)\u001b[0m\n\u001b[1;32m   1077\u001b[0m             \u001b[0mendtime\u001b[0m \u001b[0;34m=\u001b[0m \u001b[0m_time\u001b[0m\u001b[0;34m(\u001b[0m\u001b[0;34m)\u001b[0m \u001b[0;34m+\u001b[0m \u001b[0mtimeout\u001b[0m\u001b[0;34m\u001b[0m\u001b[0;34m\u001b[0m\u001b[0m\n\u001b[1;32m   1078\u001b[0m         \u001b[0;32mtry\u001b[0m\u001b[0;34m:\u001b[0m\u001b[0;34m\u001b[0m\u001b[0;34m\u001b[0m\u001b[0m\n\u001b[0;32m-> 1079\u001b[0;31m             \u001b[0;32mreturn\u001b[0m \u001b[0mself\u001b[0m\u001b[0;34m.\u001b[0m\u001b[0m_wait\u001b[0m\u001b[0;34m(\u001b[0m\u001b[0mtimeout\u001b[0m\u001b[0;34m=\u001b[0m\u001b[0mtimeout\u001b[0m\u001b[0;34m)\u001b[0m\u001b[0;34m\u001b[0m\u001b[0;34m\u001b[0m\u001b[0m\n\u001b[0m\u001b[1;32m   1080\u001b[0m         \u001b[0;32mexcept\u001b[0m \u001b[0mKeyboardInterrupt\u001b[0m\u001b[0;34m:\u001b[0m\u001b[0;34m\u001b[0m\u001b[0;34m\u001b[0m\u001b[0m\n\u001b[1;32m   1081\u001b[0m             \u001b[0;31m# https://bugs.python.org/issue25942\u001b[0m\u001b[0;34m\u001b[0m\u001b[0;34m\u001b[0m\u001b[0;34m\u001b[0m\u001b[0m\n",
      "\u001b[0;32m~/anaconda3/lib/python3.8/subprocess.py\u001b[0m in \u001b[0;36m_wait\u001b[0;34m(self, timeout)\u001b[0m\n\u001b[1;32m   1802\u001b[0m                         \u001b[0;32mif\u001b[0m \u001b[0mself\u001b[0m\u001b[0;34m.\u001b[0m\u001b[0mreturncode\u001b[0m \u001b[0;32mis\u001b[0m \u001b[0;32mnot\u001b[0m \u001b[0;32mNone\u001b[0m\u001b[0;34m:\u001b[0m\u001b[0;34m\u001b[0m\u001b[0;34m\u001b[0m\u001b[0m\n\u001b[1;32m   1803\u001b[0m                             \u001b[0;32mbreak\u001b[0m  \u001b[0;31m# Another thread waited.\u001b[0m\u001b[0;34m\u001b[0m\u001b[0;34m\u001b[0m\u001b[0m\n\u001b[0;32m-> 1804\u001b[0;31m                         \u001b[0;34m(\u001b[0m\u001b[0mpid\u001b[0m\u001b[0;34m,\u001b[0m \u001b[0msts\u001b[0m\u001b[0;34m)\u001b[0m \u001b[0;34m=\u001b[0m \u001b[0mself\u001b[0m\u001b[0;34m.\u001b[0m\u001b[0m_try_wait\u001b[0m\u001b[0;34m(\u001b[0m\u001b[0;36m0\u001b[0m\u001b[0;34m)\u001b[0m\u001b[0;34m\u001b[0m\u001b[0;34m\u001b[0m\u001b[0m\n\u001b[0m\u001b[1;32m   1805\u001b[0m                         \u001b[0;31m# Check the pid and loop as waitpid has been known to\u001b[0m\u001b[0;34m\u001b[0m\u001b[0;34m\u001b[0m\u001b[0;34m\u001b[0m\u001b[0m\n\u001b[1;32m   1806\u001b[0m                         \u001b[0;31m# return 0 even without WNOHANG in odd situations.\u001b[0m\u001b[0;34m\u001b[0m\u001b[0;34m\u001b[0m\u001b[0;34m\u001b[0m\u001b[0m\n",
      "\u001b[0;32m~/anaconda3/lib/python3.8/subprocess.py\u001b[0m in \u001b[0;36m_try_wait\u001b[0;34m(self, wait_flags)\u001b[0m\n\u001b[1;32m   1760\u001b[0m             \u001b[0;34m\"\"\"All callers to this function MUST hold self._waitpid_lock.\"\"\"\u001b[0m\u001b[0;34m\u001b[0m\u001b[0;34m\u001b[0m\u001b[0m\n\u001b[1;32m   1761\u001b[0m             \u001b[0;32mtry\u001b[0m\u001b[0;34m:\u001b[0m\u001b[0;34m\u001b[0m\u001b[0;34m\u001b[0m\u001b[0m\n\u001b[0;32m-> 1762\u001b[0;31m                 \u001b[0;34m(\u001b[0m\u001b[0mpid\u001b[0m\u001b[0;34m,\u001b[0m \u001b[0msts\u001b[0m\u001b[0;34m)\u001b[0m \u001b[0;34m=\u001b[0m \u001b[0mos\u001b[0m\u001b[0;34m.\u001b[0m\u001b[0mwaitpid\u001b[0m\u001b[0;34m(\u001b[0m\u001b[0mself\u001b[0m\u001b[0;34m.\u001b[0m\u001b[0mpid\u001b[0m\u001b[0;34m,\u001b[0m \u001b[0mwait_flags\u001b[0m\u001b[0;34m)\u001b[0m\u001b[0;34m\u001b[0m\u001b[0;34m\u001b[0m\u001b[0m\n\u001b[0m\u001b[1;32m   1763\u001b[0m             \u001b[0;32mexcept\u001b[0m \u001b[0mChildProcessError\u001b[0m\u001b[0;34m:\u001b[0m\u001b[0;34m\u001b[0m\u001b[0;34m\u001b[0m\u001b[0m\n\u001b[1;32m   1764\u001b[0m                 \u001b[0;31m# This happens if SIGCLD is set to be ignored or waiting\u001b[0m\u001b[0;34m\u001b[0m\u001b[0;34m\u001b[0m\u001b[0;34m\u001b[0m\u001b[0m\n",
      "\u001b[0;31mKeyboardInterrupt\u001b[0m: "
     ]
    }
   ],
   "source": [
    "try:\n",
    "    os.system('cp '+ligand+' '+out_dir)\n",
    "    lig_name = os.path.splitext(os.path.basename(ligand))[0]\n",
    "except:\n",
    "    print(ligand+\" doesn't exist\")\n",
    "\n",
    "\n",
    "for pdb, xyz in coordinates.items():\n",
    "    pdb_name = os.path.splitext(pdb)[0]\n",
    "    for c in xyz:\n",
    "        ####    prepare receptor, gpf and dpf  ####\n",
    "        \n",
    "        i=1\n",
    "        while os.path.exists(out_dir+pdb_name+'_%s.pdbqt' %i):\n",
    "            i += 1 # incrementing file number\n",
    "\n",
    "        print(open(receptor_dir+'/'+pdb, 'r').read().replace('HETATM', '#HETATM'), file=open(out_dir+pdb, 'w')) # comment HETATM\n",
    "        prepare_receptor(out_dir+pdb, out_dir+pdb_name+'_%s.pdbqt' %i)\n",
    "        prepare_gpf(pdb_name+'_%s.pdbqt' %i, \n",
    "                    os.path.basename(ligand), \n",
    "                    ','.join(c), \n",
    "                    pdb_name+'_%s.gpf' % i)\n",
    "        prepare_dpf(pdb_name+'_%s.pdbqt' %i, \n",
    "                    os.path.basename(ligand), \n",
    "                    pdb_name+'_'+lig_name+'_%s.dpf' % i)\n",
    "\n",
    "        ## solve bug space in dpf ##\n",
    "        print(re.sub('#', ' #', open(out_dir+pdb_name+'_'+lig_name+'_%s.dpf' % i).read()), \n",
    "              file=open(out_dir+pdb_name+'_'+lig_name+'_%s.dpf' % i, 'w'))\n",
    "\n",
    "        ####    autogrid    ####\n",
    "        autogrid(pdb_name+'_%s.gpf' % i, pdb_name+'_%s.glg' % i)\n",
    "        \n",
    "#         pid = os.fork()\n",
    "#         if pid == 0:\n",
    "            ####    autodock    ####\n",
    "        autodock(pdb_name+'_'+lig_name+'_%s.dpf' % i, pdb_name+'_'+lig_name+'_%s.dlg' % i)"
   ]
  },
  {
   "cell_type": "code",
   "execution_count": null,
   "metadata": {},
   "outputs": [],
   "source": [
    "        \n",
    "        \n",
    "from multiprocessing import Pool\n",
    "\n",
    "\n",
    "if __name__ == '__main__':\n",
    "    pool = Pool(processes=5)                         # Create a multiprocessing Pool\n",
    "    pool.imap(reverse_docking,coordinates)  # process data_inputs iterable with pool\n",
    "    "
   ]
  },
  {
   "cell_type": "code",
   "execution_count": null,
   "metadata": {},
   "outputs": [],
   "source": [
    "print([v for k, v in coordinates.items()])"
   ]
  },
  {
   "cell_type": "code",
   "execution_count": null,
   "metadata": {},
   "outputs": [],
   "source": [
    "##call script\n",
    "# pythonsh = glob.glob('**/pythonsh', recursive=True)\n",
    "# prepare_gpf = pythonsh+' '+glob.glob('**/*prepare_gpf4.py', recursive=True)+' -A \"checkhydrogens\" -e '\n",
    "# prepare_dpf = pythonsh+' '+glob.glob('**/*prepare_dpf4.py', recursive=True)[0]+' -i reference.gpf'\n",
    "# prepare_receptor = pythonsh+' '+glob.glob('**/*prepare_receptor4.py', recursive=True)[0]+' -i reference.dpf'\n",
    "# print(prepare_gpf)\n"
   ]
  },
  {
   "cell_type": "code",
   "execution_count": null,
   "metadata": {
    "scrolled": true
   },
   "outputs": [],
   "source": [
    "try:\n",
    "    os.system('cp '+ligand+' '+out_dir)\n",
    "    lig_name = os.path.splitext(os.path.basename(ligand))[0]\n",
    "except:\n",
    "    print(ligand+\" doesn't exist\")\n",
    "\n",
    "    \n",
    "\n",
    "\n",
    "def reverse_docking(pdb):  \n",
    "    xyz = coordinates.get(pdb)\n",
    "    pdb_name = os.path.splitext(pdb)[0]\n",
    "    for c in xyz:\n",
    "        \n",
    "        ####    prepare receptor, gpf and dpf  ####\n",
    "        os.system('cp '+gpf_par+' '+dpf_par+' '+out_dir)\n",
    "\n",
    "        gpf = out_dir+os.path.basename(gpf_par) # define new path\n",
    "        dpf = out_dir+os.path.basename(dpf_par)\n",
    "\n",
    "        i=1\n",
    "        while os.path.exists(out_dir+pdb_name+'_%s.pdbqt' %i):\n",
    "            i += 1 # incrementing file number\n",
    "        print(open(receptor_dir+'/'+pdb, 'r').read().replace('HETATM', '#HETATM'), file=open(out_dir+pdb, 'w')) # comment HETATM\n",
    "        \n",
    "        prepare_receptor(out_dir+pdb, out_dir+pdb_name+'_%s.pdbqt' %i)\n",
    "        prepare_gpf(pdb_name+'_%s.pdbqt' %i, os.path.basename(ligand), pdb_name+'_%s.gpf' % i)\n",
    "        prepare_dpf(pdb_name+'_%s.pdbqt' %i, os.path.basename(ligand), pdb_name+'_'+lig_name+'_%s.dpf' % i)\n",
    "        print(re.sub('gridcenter auto', 'gridcenter '+' '.join(map(str,c)), open(out_dir+pdb_name+'_%s.gpf' % i).read()), file=open(out_dir+pdb_name+'_%s.gpf' % i, 'w'))\n",
    "        print(re.sub('npts 40 40 40', 'npts 55 55 55', open(out_dir+pdb_name+'_%s.gpf' % i).read()), file=open(out_dir+pdb_name+'_%s.gpf' % i, 'w'))\n",
    "        \n",
    "        ## solve bug space in dpf ##\n",
    "        print(re.sub('#', ' #', open(out_dir+pdb_name+'_'+lig_name+'_%s.dpf' % i).read()), file=open(out_dir+pdb_name+'_'+lig_name+'_%s.dpf' % i, 'w'))\n",
    "\n",
    "        ####    autogrid    ####\n",
    "        autogrid(pdb_name+'_%s.gpf' % i, pdb_name+'_%s.glg' % i)\n",
    "\n",
    "        ####    autodock    ####\n",
    "        autodock(pdb_name+'_'+lig_name+'_%s.dpf' % i, pdb_name+'_'+lig_name+'_%s.dlg' % i)"
   ]
  },
  {
   "cell_type": "code",
   "execution_count": null,
   "metadata": {},
   "outputs": [],
   "source": []
  }
 ],
 "metadata": {
  "kernelspec": {
   "display_name": "Python 3",
   "language": "python",
   "name": "python3"
  },
  "language_info": {
   "codemirror_mode": {
    "name": "ipython",
    "version": 3
   },
   "file_extension": ".py",
   "mimetype": "text/x-python",
   "name": "python",
   "nbconvert_exporter": "python",
   "pygments_lexer": "ipython3",
   "version": "3.8.3"
  }
 },
 "nbformat": 4,
 "nbformat_minor": 4
}
