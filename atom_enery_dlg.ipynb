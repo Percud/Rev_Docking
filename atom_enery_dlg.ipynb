{
 "cells": [
  {
   "cell_type": "code",
   "execution_count": 7,
   "metadata": {
    "scrolled": true
   },
   "outputs": [
    {
     "name": "stdout",
     "output_type": "stream",
     "text": [
      "A2AIG8-1_37_482_4n0b.2.B_swissmodel.1.HTML_PLP.dlg\t-9.15\t60\t-9.15\t60\t-13.02\t60\t-13.02\t60\t-13.02\t60\t1\n",
      "A2AIG8-1_37_482_4n0b.2.B_swissmodel.1.KYNU_PLP.dlg\t-10.79\t90\t-10.67\t32\t-14.08\t90\t-13.94\t32\t-13.94\t32\t2\n",
      "A2AIG8-1_37_482_4n0b.2.B_swissmodel.1.TYR_PLP.dlg\t-11.05\t30\t-10.48\t97\t-14.0\t30\t-13.46\t97\t-13.46\t97\t3\n",
      "A2AIG8-1_37_482_4n0b.2.B_swissmodel.1.KYNU_PLP (copia).dlg\tNan\tNan\tNan\tNan\tNan\tNan\tNan\tNan\tNan\tNan\tNan\t\n"
     ]
    }
   ],
   "source": [
    "import glob, re, pandas as pd\n",
    "for dlg in glob.glob('*.dlg'):\n",
    "    try:\n",
    "        tab, dock = [], {}\n",
    "        for line in open(dlg):\n",
    "            if line.startswith('DOCKED: MODEL'):\n",
    "                model = int(line.split()[-1])\n",
    "            elif line.startswith('DOCKED: ATOM'):\n",
    "                number, atom, res, chain, x, y, z, vdw, Elec = line.split()[2:11]\n",
    "                dock.setdefault(model, []).append((float(vdw)+float(Elec)))\n",
    "            elif 'RANKING' in line:\n",
    "                tab.append(list(map(float,line.split()[:4])))\n",
    "\n",
    "        df_dock = pd.DataFrame.from_dict(dock, orient='index')\n",
    "        df_dock['vdw+Elec'] = df_dock.sum(axis=1)\n",
    "\n",
    "\n",
    "        df = pd.DataFrame(tab, columns = ['rank', 'subrank', 'run', 'energy'], dtype = int)\n",
    "        df.set_index(['rank','run'], inplace = True)\n",
    "        df = df.join(df_dock['vdw+Elec'], on='run').round(2)\n",
    "        bo = df.groupby('rank')\n",
    "        bo.idxmin().at[1,'vdw+Elec'][1]\n",
    "        best_energy = (df.loc[1].iloc[0]['energy'], df.loc[1]['energy'].idxmin())\n",
    "        largest_energy = (df.loc[df['subrank'].idxmax()[0]].iloc[0]['energy'], df.loc[df['subrank'].idxmax()[0]]['energy'].idxmin())\n",
    "        best_res = (df.loc[1].iloc[0]['vdw+Elec'], df.loc[1]['vdw+Elec'].idxmin())\n",
    "        largest_res = (df.loc[df['subrank'].idxmax()[0]].iloc[0]['vdw+Elec'], df.loc[df['subrank'].idxmax()[0]]['vdw+Elec'].idxmin())\n",
    "        best_largest_res = (df.loc[df['subrank'].idxmax()[0]]['vdw+Elec'].min(), df.loc[df['subrank'].idxmax()[0]]['vdw+Elec'].idxmin())\n",
    "        largest_cluster = df['subrank'].idxmax()[0]\n",
    "\n",
    "        print(dlg, *best_energy, *largest_energy, *best_res, *largest_res, *best_largest_res, largest_cluster, sep = '\\t')#, file=open('prova.tsv', 'w'))\n",
    "    except:\n",
    "#         continue\n",
    "#     finally:\n",
    "        print(dlg, 'Nan\\t'*11, sep = '\\t')#, file=open('prova.tsv', 'a'))\n",
    "        \n",
    "\n"
   ]
  },
  {
   "cell_type": "code",
   "execution_count": 2,
   "metadata": {},
   "outputs": [
    {
     "data": {
      "text/html": [
       "<div>\n",
       "<style scoped>\n",
       "    .dataframe tbody tr th:only-of-type {\n",
       "        vertical-align: middle;\n",
       "    }\n",
       "\n",
       "    .dataframe tbody tr th {\n",
       "        vertical-align: top;\n",
       "    }\n",
       "\n",
       "    .dataframe thead th {\n",
       "        text-align: right;\n",
       "    }\n",
       "</style>\n",
       "<table border=\"1\" class=\"dataframe\">\n",
       "  <thead>\n",
       "    <tr style=\"text-align: right;\">\n",
       "      <th></th>\n",
       "      <th></th>\n",
       "      <th>subrank</th>\n",
       "      <th>energy</th>\n",
       "      <th>vdw+Elec</th>\n",
       "    </tr>\n",
       "    <tr>\n",
       "      <th>rank</th>\n",
       "      <th>run</th>\n",
       "      <th></th>\n",
       "      <th></th>\n",
       "      <th></th>\n",
       "    </tr>\n",
       "  </thead>\n",
       "  <tbody>\n",
       "  </tbody>\n",
       "</table>\n",
       "</div>"
      ],
      "text/plain": [
       "Empty DataFrame\n",
       "Columns: [subrank, energy, vdw+Elec]\n",
       "Index: []"
      ]
     },
     "execution_count": 2,
     "metadata": {},
     "output_type": "execute_result"
    }
   ],
   "source": [
    "\n"
   ]
  },
  {
   "cell_type": "code",
   "execution_count": null,
   "metadata": {},
   "outputs": [],
   "source": []
  }
 ],
 "metadata": {
  "kernelspec": {
   "display_name": "Python 3",
   "language": "python",
   "name": "python3"
  },
  "language_info": {
   "codemirror_mode": {
    "name": "ipython",
    "version": 3
   },
   "file_extension": ".py",
   "mimetype": "text/x-python",
   "name": "python",
   "nbconvert_exporter": "python",
   "pygments_lexer": "ipython3",
   "version": "3.7.6"
  }
 },
 "nbformat": 4,
 "nbformat_minor": 4
}
