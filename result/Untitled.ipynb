{
 "cells": [
  {
   "cell_type": "code",
   "execution_count": null,
   "metadata": {},
   "outputs": [],
   "source": [
    "import pandas as pd\n"
   ]
  },
  {
   "cell_type": "code",
   "execution_count": 13,
   "metadata": {},
   "outputs": [
    {
     "data": {
      "text/plain": [
       "{'assembly_name': 'GRCh38',\n",
       " 'biotype': 'protein_coding',\n",
       " 'db_type': 'core',\n",
       " 'description': 'BRCA2 DNA repair associated [Source:HGNC Symbol;Acc:HGNC:1101]',\n",
       " 'display_name': 'BRCA2',\n",
       " 'end': 32400268,\n",
       " 'id': 'ENSG00000139618',\n",
       " 'logic_name': 'ensembl_havana_gene_homo_sapiens',\n",
       " 'object_type': 'Gene',\n",
       " 'seq_region_name': '13',\n",
       " 'source': 'ensembl_havana',\n",
       " 'species': 'homo sapiens',\n",
       " 'start': 32315086,\n",
       " 'strand': 1,\n",
       " 'version': 16}"
      ]
     },
     "execution_count": 13,
     "metadata": {},
     "output_type": "execute_result"
    }
   ],
   "source": [
    "import ensembl_rest\n",
    "\n",
    "ensembl_rest.symbol_lookup(\n",
    "    species='homo sapiens',\n",
    "    symbol='BRCA2'\n",
    ")"
   ]
  },
  {
   "cell_type": "code",
   "execution_count": 5,
   "metadata": {
    "scrolled": true
   },
   "outputs": [],
   "source": [
    "from Bio import SeqIO\n",
    "ac=[]\n",
    "for record in SeqIO.parse('../../carnitine_mus_musculus_plpome.fa', \"fasta\"):\n",
    "    ac.append(record.id)"
   ]
  },
  {
   "cell_type": "code",
   "execution_count": 29,
   "metadata": {},
   "outputs": [
    {
     "name": "stdout",
     "output_type": "stream",
     "text": [
      "From\tTo\n",
      "Q9WUB3\tENSMUSP00000047564\n",
      "Q9WUB3\tENSMUSP00000143844\n",
      "\n",
      "<http.client.HTTPResponse object at 0x7fddb4797c88>\n"
     ]
    }
   ],
   "source": [
    "import urllib.parse\n",
    "import urllib.request\n",
    "\n",
    "url = 'https://www.uniprot.org/uploadlists/'\n",
    "\n",
    "params = {\n",
    "'from': 'ACC',\n",
    "'to': 'ENSEMBL_PRO_ID',\n",
    "'format': 'tab',\n",
    "'query': 'Q9WUB3'\n",
    "}\n",
    "\n",
    "data = urllib.parse.urlencode(params)\n",
    "data = data.encode('utf-8')\n",
    "req = urllib.request.Request(url, data)\n",
    "with urllib.request.urlopen(req) as f:\n",
    "    response = f.read()\n",
    "print(response.decode('utf-8'))\n",
    "print(f)"
   ]
  }
 ],
 "metadata": {
  "kernelspec": {
   "display_name": "Python 3",
   "language": "python",
   "name": "python3"
  },
  "language_info": {
   "codemirror_mode": {
    "name": "ipython",
    "version": 3
   },
   "file_extension": ".py",
   "mimetype": "text/x-python",
   "name": "python",
   "nbconvert_exporter": "python",
   "pygments_lexer": "ipython3",
   "version": "3.6.9"
  }
 },
 "nbformat": 4,
 "nbformat_minor": 4
}
